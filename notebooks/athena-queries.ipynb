{
 "cells": [
  {
   "cell_type": "code",
   "execution_count": 1,
   "id": "8445bdc7",
   "metadata": {},
   "outputs": [],
   "source": [
    "import matplotlib.pyplot as plt\n",
    "import numpy as np\n",
    "from pathlib import Path\n",
    "import csv\n",
    "import common\n",
    "\n",
    "common.pltsetup()"
   ]
  },
  {
   "cell_type": "code",
   "execution_count": 2,
   "id": "12029d5f",
   "metadata": {},
   "outputs": [
    {
     "data": {
      "image/png": "[encoded data removed]",
      "text/plain": [
       "<Figure size 432x288 with 1 Axes>"
      ]
     },
     "metadata": {
      "needs_background": "light"
     },
     "output_type": "display_data"
    }
   ],
   "source": [
    "with Path('data/weekend-work.csv').open() as f:\n",
    "    weekend_work = list(csv.reader(f))[1:]\n",
    "x = [int(y) for y, _ in weekend_work]\n",
    "y = [float(v) for _, v in weekend_work]\n",
    "\n",
    "coef = np.polyfit(x,y,1)\n",
    "poly1d_fn = np.poly1d(coef)\n",
    "plt.xlabel('Year')\n",
    "plt.ylabel('% of commits performed during the week-end')\n",
    "plt.plot(x,y, 'o', x, poly1d_fn(x), '--k')\n",
    "plt.savefig('../img/graph-dataset/weekend-work.pdf')"
   ]
  },
  {
   "cell_type": "code",
   "execution_count": null,
   "id": "ef50e72c",
   "metadata": {},
   "outputs": [],
   "source": []
  }
 ],
 "metadata": {
  "kernelspec": {
   "display_name": "Python 3 (ipykernel)",
   "language": "python",
   "name": "python3"
  },
  "language_info": {
   "codemirror_mode": {
    "name": "ipython",
    "version": 3
   },
   "file_extension": ".py",
   "mimetype": "text/x-python",
   "name": "python",
   "nbconvert_exporter": "python",
   "pygments_lexer": "ipython3",
   "version": "3.9.6"
  }
 },
 "nbformat": 4,
 "nbformat_minor": 5
}
